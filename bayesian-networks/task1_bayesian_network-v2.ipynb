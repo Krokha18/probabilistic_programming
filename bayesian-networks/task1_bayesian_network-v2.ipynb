{
 "cells": [
  {
   "cell_type": "code",
   "execution_count": 1,
   "metadata": {},
   "outputs": [],
   "source": [
    "import numpy as np\n",
    "import pandas as pd\n",
    "import matplotlib.pyplot as plt\n",
    "from pgmpy.models import BayesianModel"
   ]
  },
  {
   "cell_type": "code",
   "execution_count": 2,
   "metadata": {},
   "outputs": [
    {
     "data": {
      "image/png": "[encoded data removed]",
      "text/plain": [
       "<Figure size 576x576 with 1 Axes>"
      ]
     },
     "metadata": {},
     "output_type": "display_data"
    }
   ],
   "source": [
    "model=BayesianModel([('A','C'),('B','C') ])\n",
    "import networkx as nx\n",
    "import matplotlib.pyplot as plt \n",
    "\n",
    "G = nx.MultiDiGraph()\n",
    "G.add_edges_from(model.edges())\n",
    "\n",
    "plt.figure(figsize=(8,8))\n",
    "#nx.draw_networkx(G,node_size=3000)\n",
    "nx.draw_circular(G,node_size=3000, with_labels=True)"
   ]
  },
  {
   "cell_type": "code",
   "execution_count": 3,
   "metadata": {},
   "outputs": [
    {
     "name": "stdout",
     "output_type": "stream",
     "text": [
      "P(CA)=0.0025000000000000005\n",
      "P(CB)=0.003\n",
      "P(CAB)=0.00045000000000000004\n",
      "P(CAnotB)=0.0020500000000000006\n",
      "P(CnotAB)=0.00255\n",
      "P(CnotAnotB)=0.0\n"
     ]
    }
   ],
   "source": [
    "p_C_if_A=0.05\n",
    "p_C_if_B=0.3\n",
    "\n",
    "#задаем руками. осторожно, чтобы все вероятности были больше 0\n",
    "p_A=0.05\n",
    "p_B=0.01\n",
    "\n",
    "p_CA=p_A*p_C_if_A\n",
    "print(f'P(CA)={p_CA}')\n",
    "p_CB=p_B*p_C_if_B\n",
    "print(f'P(CB)={p_CB}')\n",
    "\n",
    "#задаем руками. Осторожно, чтобы все вероятности были больше 0.\n",
    "p_C_if_AB=0.9\n",
    "p_C_if_notAnotB=0.0\n",
    "\n",
    "p_CAB=p_A*p_B*p_C_if_AB\n",
    "print(f'P(CAB)={p_CAB}')\n",
    "p_CAnotB=p_CA-p_CAB\n",
    "print(f'P(CAnotB)={p_CAnotB}')\n",
    "p_CnotAB=p_CB-p_CAB\n",
    "print(f'P(CnotAB)={p_CnotAB}')\n",
    "p_CnotAnotB=(1-p_A)*(1-p_B)*p_C_if_notAnotB\n",
    "print(f'P(CnotAnotB)={p_CnotAnotB}')\n",
    "\n",
    "p_C_if_AnotB=p_CAnotB/(p_A*(1-p_B))\n",
    "p_C_if_notAB=p_CnotAB/(p_B*(1-p_A))\n",
    "\n",
    "#p_C0=[1-p_C_if_notAnotB,1-p_C_if_notAB,1-p_C_if_AnotB,1-p_C_if_AB]\n",
    "p_C1=np.array([p_C_if_notAnotB,p_C_if_notAB,p_C_if_AnotB,p_C_if_AB])\n",
    "p_C0=1.0-p_C1"
   ]
  },
  {
   "cell_type": "code",
   "execution_count": 4,
   "metadata": {},
   "outputs": [
    {
     "name": "stdout",
     "output_type": "stream",
     "text": [
      "+------+------+---------------------+----------------------+---------------------+\n",
      "| A    | A(0) | A(0)                | A(1)                 | A(1)                |\n",
      "+------+------+---------------------+----------------------+---------------------+\n",
      "| B    | B(0) | B(1)                | B(0)                 | B(1)                |\n",
      "+------+------+---------------------+----------------------+---------------------+\n",
      "| C(0) | 1.0  | 0.7315789473684211  | 0.9585858585858585   | 0.09999999999999998 |\n",
      "+------+------+---------------------+----------------------+---------------------+\n",
      "| C(1) | 0.0  | 0.26842105263157895 | 0.041414141414141424 | 0.9                 |\n",
      "+------+------+---------------------+----------------------+---------------------+\n"
     ]
    }
   ],
   "source": [
    "# задаем распределение вероятностей\n",
    "from pgmpy.factors.discrete import TabularCPD\n",
    "\n",
    "cpd_A = TabularCPD(variable='A', variable_card=2, values=[[1-p_A], [p_A]])\n",
    "\n",
    "cpd_B = TabularCPD(variable='B', variable_card=2, values=[[1-p_B], [p_B]])\n",
    "\n",
    "cpd_C = TabularCPD(variable='C', variable_card=2, evidence=['A','B'],\\\n",
    "                  values=np.array([p_C0,p_C1]), evidence_card=[2,2])\n",
    "print(cpd_C)"
   ]
  },
  {
   "cell_type": "code",
   "execution_count": 5,
   "metadata": {},
   "outputs": [
    {
     "data": {
      "text/plain": [
       "True"
      ]
     },
     "execution_count": 5,
     "metadata": {},
     "output_type": "execute_result"
    }
   ],
   "source": [
    "#добавляем распределение в сеть\n",
    "model.add_cpds(cpd_A,cpd_B,cpd_C)\n",
    "model.check_model() #проверить модель на ошибки"
   ]
  },
  {
   "cell_type": "code",
   "execution_count": 6,
   "metadata": {},
   "outputs": [
    {
     "data": {
      "text/plain": [
       "(A _|_ B)\n",
       "(B _|_ A)"
      ]
     },
     "execution_count": 6,
     "metadata": {},
     "output_type": "execute_result"
    }
   ],
   "source": [
    "#показать пары независимых переменных\n",
    "model.get_independencies()"
   ]
  },
  {
   "cell_type": "code",
   "execution_count": 7,
   "metadata": {},
   "outputs": [
    {
     "name": "stderr",
     "output_type": "stream",
     "text": [
      "Finding Elimination Order: : : 0it [00:00, ?it/s]\n",
      "0it [00:00, ?it/s]\u001b[A"
     ]
    },
    {
     "name": "stdout",
     "output_type": "stream",
     "text": [
      "+------+------+------+--------------+\n",
      "| B    | A    | C    |   phi(B,A,C) |\n",
      "+======+======+======+==============+\n",
      "| B(0) | A(0) | C(0) |       0.9405 |\n",
      "+------+------+------+--------------+\n",
      "| B(0) | A(0) | C(1) |       0.0000 |\n",
      "+------+------+------+--------------+\n",
      "| B(0) | A(1) | C(0) |       0.0474 |\n",
      "+------+------+------+--------------+\n",
      "| B(0) | A(1) | C(1) |       0.0021 |\n",
      "+------+------+------+--------------+\n",
      "| B(1) | A(0) | C(0) |       0.0070 |\n",
      "+------+------+------+--------------+\n",
      "| B(1) | A(0) | C(1) |       0.0025 |\n",
      "+------+------+------+--------------+\n",
      "| B(1) | A(1) | C(0) |       0.0000 |\n",
      "+------+------+------+--------------+\n",
      "| B(1) | A(1) | C(1) |       0.0005 |\n",
      "+------+------+------+--------------+\n"
     ]
    },
    {
     "name": "stderr",
     "output_type": "stream",
     "text": [
      "\n"
     ]
    }
   ],
   "source": [
    "from pgmpy.inference import VariableElimination\n",
    "infer=VariableElimination(model)\n",
    "#вывод совместного распределения.\n",
    "print(infer.query(['A','B','C']) )"
   ]
  },
  {
   "cell_type": "code",
   "execution_count": 14,
   "metadata": {},
   "outputs": [
    {
     "name": "stderr",
     "output_type": "stream",
     "text": [
      "\n",
      "  0%|          | 0/1 [00:00<?, ?it/s]\u001b[A\n",
      "Finding Elimination Order: :   0%|          | 0/1 [00:00<?, ?it/s]\u001b[A\n",
      "\n",
      "  0%|          | 0/1 [00:00<?, ?it/s]\u001b[A\u001b[A\n",
      "\n",
      "Eliminating: A: 100%|██████████| 1/1 [00:00<00:00, 242.73it/s]\n"
     ]
    },
    {
     "data": {
      "text/html": [
       "<div>\n",
       "<style scoped>\n",
       "    .dataframe tbody tr th:only-of-type {\n",
       "        vertical-align: middle;\n",
       "    }\n",
       "\n",
       "    .dataframe tbody tr th {\n",
       "        vertical-align: top;\n",
       "    }\n",
       "\n",
       "    .dataframe thead th {\n",
       "        text-align: right;\n",
       "    }\n",
       "</style>\n",
       "<table border=\"1\" class=\"dataframe\">\n",
       "  <thead>\n",
       "    <tr style=\"text-align: right;\">\n",
       "      <th></th>\n",
       "      <th>B</th>\n",
       "    </tr>\n",
       "  </thead>\n",
       "  <tbody>\n",
       "    <tr>\n",
       "      <th>0</th>\n",
       "      <td>0.405941</td>\n",
       "    </tr>\n",
       "    <tr>\n",
       "      <th>1</th>\n",
       "      <td>0.594059</td>\n",
       "    </tr>\n",
       "  </tbody>\n",
       "</table>\n",
       "</div>"
      ],
      "text/plain": [
       "          B\n",
       "0  0.405941\n",
       "1  0.594059"
      ]
     },
     "execution_count": 14,
     "metadata": {},
     "output_type": "execute_result"
    }
   ],
   "source": [
    "#вероятности состояний 0,1 при условии C=1\n",
    "inference_B_if_C=infer.query(['B'],evidence={'C':1})\n",
    "pd.DataFrame(columns=inference_B_if_C.state_names,\\\n",
    "             data=inference_B_if_C.values)"
   ]
  }
 ],
 "metadata": {
  "kernelspec": {
   "display_name": "Python 3",
   "language": "python",
   "name": "python3"
  },
  "language_info": {
   "codemirror_mode": {
    "name": "ipython",
    "version": 3
   },
   "file_extension": ".py",
   "mimetype": "text/x-python",
   "name": "python",
   "nbconvert_exporter": "python",
   "pygments_lexer": "ipython3",
   "version": "3.8.5"
  }
 },
 "nbformat": 4,
 "nbformat_minor": 4
}
